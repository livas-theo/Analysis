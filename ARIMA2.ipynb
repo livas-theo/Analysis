{
 "cells": [
  {
   "cell_type": "code",
   "execution_count": null,
   "id": "d5dbf855-7904-4ace-8001-bc60e64c193a",
   "metadata": {},
   "outputs": [],
   "source": [
    "import yfinance as yf\n",
    "import numpy as np\n",
    "import pandas as pd\n",
    "import matplotlib.pyplot as plt\n",
    "from darts import TimeSeries\n",
    "from darts.models import ARIMA"
   ]
  },
  {
   "cell_type": "code",
   "execution_count": null,
   "id": "92b7b473-6dc0-492a-8654-85346a3a244a",
   "metadata": {},
   "outputs": [],
   "source": [
    "# 1️⃣ Download TSLA data\n",
    "df = yf.download(\"TSLA\", start=\"2020-01-01\", end=\"2025-01-01\")[['Close']]"
   ]
  },
  {
   "cell_type": "code",
   "execution_count": null,
   "id": "14afa237-94bf-4028-b7b2-bc24aed9e2dd",
   "metadata": {},
   "outputs": [],
   "source": [
    "# 2️⃣ Convert to log returns (stationary)\n",
    "df['log_return'] = np.log(df['Close']).diff()\n",
    "df.dropna(inplace=True)"
   ]
  },
  {
   "cell_type": "code",
   "execution_count": null,
   "id": "68f4c589-ee70-4698-9bbc-dd93e800998f",
   "metadata": {},
   "outputs": [],
   "source": [
    "# Seasonal difference (lag=5 for weekly seasonality)\n",
    "df['seasonal_diff'] = df['log_return'] - df['log_return'].shift(5)\n",
    "df.dropna(inplace=True)"
   ]
  },
  {
   "cell_type": "code",
   "execution_count": null,
   "id": "106b6cbb-24c8-472f-934b-433d98c0213f",
   "metadata": {},
   "outputs": [],
   "source": [
    "# Create TimeSeries of seasonally differenced log returns\n",
    "ts = TimeSeries.from_series(df['seasonal_diff'], fill_missing_dates=True, freq='B')"
   ]
  },
  {
   "cell_type": "code",
   "execution_count": null,
   "id": "e3faf999-1ae0-4475-9130-3f0b617c62c1",
   "metadata": {},
   "outputs": [],
   "source": [
    "# Fit non-seasonal ARIMA to seasonally differenced series\n",
    "model = ARIMA(p=1, d=0, q=1)\n",
    "model.fit(ts)"
   ]
  },
  {
   "cell_type": "code",
   "execution_count": null,
   "id": "7afab325-5fd3-4448-aa19-872a9377d787",
   "metadata": {},
   "outputs": [],
   "source": [
    "# 5️⃣ Forecast next 30 business days of returns\n",
    "forecast_seasonal_diff = model.predict(30)"
   ]
  },
  {
   "cell_type": "code",
   "execution_count": null,
   "id": "0fa5dabd-c4be-4eda-8109-9799021e9005",
   "metadata": {},
   "outputs": [],
   "source": [
    "# To recover forecasted log returns, invert the seasonal differencing\n",
    "# forecasted_log_return_t = forecasted_seasonal_diff_t + log_return_(t-5)\n",
    "last_5 = df['log_return'].iloc[-5:].values  # last 5 observed returns"
   ]
  },
  {
   "cell_type": "code",
   "execution_count": null,
   "id": "203a45b5-9654-46be-88d7-a331e196bcaf",
   "metadata": {},
   "outputs": [],
   "source": [
    "# We iteratively reconstruct forecasted log returns:\n",
    "forecasted_log_returns = []\n",
    "for i, val in enumerate(forecast_seasonal_diff.values()):\n",
    "    if i < 5:\n",
    "        prev_val = last_5[i]\n",
    "    else:\n",
    "        prev_val = forecasted_log_returns[i - 5]\n",
    "    forecasted_log_returns.append(val + prev_val)\n",
    "forecasted_log_returns = np.array(forecasted_log_returns)"
   ]
  },
  {
   "cell_type": "code",
   "execution_count": null,
   "id": "8dea5fb5-d14e-4b8b-907c-bcb35869bfe4",
   "metadata": {},
   "outputs": [],
   "source": [
    "# Create forecast dates index (business days after last date)\n",
    "forecast_dates = pd.bdate_range(df.index[-1], periods=31)[1:]"
   ]
  },
  {
   "cell_type": "code",
   "execution_count": null,
   "id": "8cb6457b-5550-40ea-89c8-558afdf56122",
   "metadata": {},
   "outputs": [],
   "source": [
    "# Create a pandas Series with forecasted log returns and forecast_dates index\n",
    "forecast_log_returns_series = pd.Series(forecasted_log_returns.flatten(), index=forecast_dates)"
   ]
  },
  {
   "cell_type": "code",
   "execution_count": null,
   "id": "2aa3cfef-ad60-414c-9f02-0fce8943edb3",
   "metadata": {},
   "outputs": [],
   "source": [
    "# Convert forecasted log returns to forecasted log prices by cumulative sum + last log price\n",
    "last_log_price = np.log(df['Close'].iloc[-1])\n",
    "forecast_log_prices = last_log_price + forecast_log_returns_series"
   ]
  },
  {
   "cell_type": "code",
   "execution_count": null,
   "id": "151d887e-2577-4793-9d54-825f78fbbd1b",
   "metadata": {},
   "outputs": [],
   "source": [
    "# Convert to forecasted prices\n",
    "forecast_prices = np.exp(forecast_log_prices)"
   ]
  },
  {
   "cell_type": "code",
   "execution_count": null,
   "id": "1c43c1f0-224c-47c4-8197-6175cf310178",
   "metadata": {},
   "outputs": [],
   "source": [
    "# Plot historical and forecasted prices\n",
    "plt.figure(figsize=(12, 6))\n",
    "plt.plot(df.index, df['Close'], label='Historical Price')\n",
    "plt.plot(forecast_prices.index, forecast_prices.values, label='Forecasted Price', color='red')\n",
    "plt.title('TSLA Price Forecast with Seasonal Differencing + ARIMA (Darts)')\n",
    "plt.xlabel('Date')\n",
    "plt.ylabel('Price')\n",
    "plt.legend()\n",
    "plt.grid(True)\n",
    "plt.show()"
   ]
  },
  {
   "cell_type": "code",
   "execution_count": null,
   "id": "67ca5831-680f-4c94-8cb2-0b0d7cc2710a",
   "metadata": {
    "scrolled": true
   },
   "outputs": [],
   "source": [
    "plt.figure(figsize=(12,6))\n",
    "plt.plot(df.index, df['Close'], label='Historical Price')\n",
    "plt.plot(forecast_prices.index, forecast_prices.values, label='Forecasted Price', color='red')\n",
    "plt.legend()\n",
    "plt.title('TSLA Price Forecast with Seasonal Differencing + ARIMA (Darts)')\n",
    "plt.xlabel('Date')\n",
    "plt.ylabel('Price')\n",
    "plt.grid(True)\n",
    "plt.show()"
   ]
  },
  {
   "cell_type": "code",
   "execution_count": null,
   "id": "a2c989a3-0928-4f2c-a3c9-9b947250212a",
   "metadata": {},
   "outputs": [],
   "source": []
  },
  {
   "cell_type": "code",
   "execution_count": null,
   "id": "200f6769-f0cf-40ba-ae2e-86140db7404d",
   "metadata": {},
   "outputs": [],
   "source": []
  },
  {
   "cell_type": "code",
   "execution_count": null,
   "id": "a7213d34-4bbc-4e0d-852c-252cb00427f3",
   "metadata": {},
   "outputs": [],
   "source": [
    "import yfinance as yf\n",
    "import numpy as np\n",
    "import pandas as pd\n",
    "import matplotlib.pyplot as plt\n",
    "from darts import TimeSeries\n",
    "from darts.models import ARIMA\n",
    "\n",
    "# Download TSLA data\n",
    "df = yf.download(\"TSLA\", start=\"2020-01-01\", end=\"2025-01-01\")[['Close']]\n",
    "\n",
    "# Compute log returns\n",
    "df['log_return'] = np.log(df['Close']).diff()\n",
    "df.dropna(inplace=True)\n",
    "\n",
    "# Seasonal difference (lag=5 for weekly seasonality)\n",
    "df['seasonal_diff'] = df['log_return'] - df['log_return'].shift(5)\n",
    "df.dropna(inplace=True)\n",
    "\n",
    "# Create TimeSeries of seasonally differenced log returns\n",
    "ts = TimeSeries.from_series(df['seasonal_diff'], fill_missing_dates=True, freq='B')\n",
    "\n",
    "# Fit non-seasonal ARIMA to seasonally differenced series\n",
    "model = ARIMA(p=1, d=0, q=1)\n",
    "model.fit(ts)\n",
    "\n",
    "# Forecast next 30 points of seasonally differenced returns\n",
    "forecast_seasonal_diff = model.predict(30)\n",
    "\n",
    "# Invert seasonal differencing to recover forecasted log returns\n",
    "last_5 = df['log_return'].iloc[-5:].values  # last 5 observed returns\n",
    "\n",
    "forecasted_log_returns = []\n",
    "for i, val in enumerate(forecast_seasonal_diff.values()):\n",
    "    if i < 5:\n",
    "        prev_val = last_5[i]\n",
    "    else:\n",
    "        prev_val = forecasted_log_returns[i - 5]\n",
    "    forecasted_log_returns.append(val + prev_val)\n",
    "forecasted_log_returns = np.array(forecasted_log_returns)\n",
    "\n",
    "# Create forecast dates index (business days after last date)\n",
    "forecast_dates = pd.bdate_range(df.index[-1], periods=31)[1:]\n",
    "\n",
    "# Create a pandas Series with forecasted log returns and forecast_dates index\n",
    "forecast_log_returns_series = pd.Series(forecasted_log_returns.flatten(), index=forecast_dates)\n",
    "\n",
    "# Convert forecasted log returns to forecasted log prices by cumulative sum + last log price\n",
    "last_log_price = np.log(df['Close'].iloc[-1])\n",
    "forecast_log_prices = last_log_price + forecast_log_returns_series.cumsum()\n",
    "\n",
    "# Convert to forecasted prices\n",
    "forecast_prices = np.exp(forecast_log_prices)"
   ]
  },
  {
   "cell_type": "code",
   "execution_count": null,
   "id": "96b3d3a7-4010-4941-8b9e-59cb316674a7",
   "metadata": {},
   "outputs": [],
   "source": [
    "# Plot historical and forecasted prices\n",
    "plt.figure(figsize=(12, 6))\n",
    "plt.plot(df.index, df['Close'], label='Historical Price')\n",
    "plt.plot(forecast_prices.index, forecast_prices.values, label='Forecasted Price', color='red')\n",
    "plt.title('TSLA Price Forecast with Seasonal Differencing + ARIMA (Darts)')\n",
    "plt.xlabel('Date')\n",
    "plt.ylabel('Price')\n",
    "plt.legend()\n",
    "plt.grid(True)\n",
    "plt.show()"
   ]
  },
  {
   "cell_type": "code",
   "execution_count": null,
   "id": "eda90aa8-a447-4792-9406-f86b9f0aadc4",
   "metadata": {},
   "outputs": [],
   "source": [
    "plt.figure(figsize=(12,6))\n",
    "plt.plot(df.index, df['Close'], label='Historical Price')\n",
    "\n",
    "# Flatten the y-values to ensure they're 1D\n",
    "plt.plot(forecast_prices.index, forecast_prices.values.flatten(), label='Forecasted Price', color='red')\n",
    "\n",
    "plt.legend()\n",
    "plt.title('TSLA Price Forecast with Seasonal Differencing + ARIMA (Darts)')\n",
    "plt.xlabel('Date')\n",
    "plt.ylabel('Price')\n",
    "plt.grid(True)\n",
    "plt.show()"
   ]
  },
  {
   "cell_type": "code",
   "execution_count": null,
   "id": "98fa6e1c-c291-4cf0-845a-7cdf27e3e795",
   "metadata": {},
   "outputs": [],
   "source": [
    "print(forecast_prices.index)\n",
    "print(forecast_prices.values.flatten().shape)"
   ]
  },
  {
   "cell_type": "code",
   "execution_count": null,
   "id": "73679787-2e0a-4c15-afba-206d4abb887f",
   "metadata": {},
   "outputs": [],
   "source": [
    "# Ensure forecasted log returns are 1D\n",
    "forecasted_log_returns = np.array(forecasted_log_returns).flatten()\n",
    "\n",
    "# Create correct forecast dates index\n",
    "forecast_dates = pd.bdate_range(df.index[-1], periods=len(forecasted_log_returns) + 1)[1:]\n",
    "\n",
    "# Rebuild forecast log returns as pandas Series\n",
    "forecast_log_returns_series = pd.Series(forecasted_log_returns, index=forecast_dates)\n",
    "\n",
    "# Convert log returns to prices\n",
    "last_log_price = np.log(df['Close'].iloc[-1])\n",
    "forecast_log_prices = last_log_price + forecast_log_returns_series.cumsum()\n",
    "forecast_prices = np.exp(forecast_log_prices)\n",
    "\n",
    "# ✅ Now forecast_prices is a pandas Series with correct index\n",
    "print(forecast_prices.index)\n",
    "print(forecast_prices.values.flatten().shape)\n",
    "\n",
    "# Plot\n",
    "plt.figure(figsize=(12,6))\n",
    "plt.plot(df.index, df['Close'], label='Historical Price')\n",
    "plt.plot(forecast_prices.index, forecast_prices.values.flatten(), label='Forecasted Price', color='red')\n",
    "plt.legend()\n",
    "plt.title('TSLA Price Forecast with Seasonal Differencing + ARIMA (Darts)')\n",
    "plt.xlabel('Date')\n",
    "plt.ylabel('Price')\n",
    "plt.grid(True)\n",
    "plt.show()\n"
   ]
  },
  {
   "cell_type": "code",
   "execution_count": null,
   "id": "56618459-9866-40c4-8071-27fdd1581e2a",
   "metadata": {},
   "outputs": [],
   "source": []
  },
  {
   "cell_type": "code",
   "execution_count": null,
   "id": "04c85e77-b578-405b-8c06-0403c7b0d843",
   "metadata": {},
   "outputs": [],
   "source": [
    "import yfinance as yf\n",
    "import numpy as np\n",
    "import pandas as pd\n",
    "import matplotlib.pyplot as plt\n",
    "from darts import TimeSeries\n",
    "from darts.models import ARIMA\n",
    "\n",
    "# Download TSLA data\n",
    "df = yf.download(\"TSLA\", start=\"2020-01-01\", end=\"2025-01-01\")[['Close']]\n",
    "\n",
    "# If your data comes with a MultiIndex (which it does now), reset it:\n",
    "if isinstance(df.index, pd.MultiIndex):\n",
    "    df = df.droplevel(0)  # Drops the 'Ticker' level\n",
    "\n",
    "# Ensure index is datetime\n",
    "df.index = pd.to_datetime(df.index)\n",
    "\n",
    "# Compute log returns\n",
    "df['log_return'] = np.log(df['Close']).diff()\n",
    "df.dropna(inplace=True)\n",
    "\n",
    "# Seasonal difference (lag=5 for weekly seasonality)\n",
    "df['seasonal_diff'] = df['log_return'] - df['log_return'].shift(5)\n",
    "df.dropna(inplace=True)\n",
    "\n",
    "# Create TimeSeries of seasonally differenced log returns\n",
    "ts = TimeSeries.from_series(df['seasonal_diff'], fill_missing_dates=True, freq='B')\n",
    "\n",
    "# Fit non-seasonal ARIMA to seasonally differenced series\n",
    "model = ARIMA(p=1, d=0, q=1)\n",
    "model.fit(ts)\n",
    "\n",
    "# Forecast next 30 points of seasonally differenced returns\n",
    "forecast_steps = 30\n",
    "forecast_seasonal_diff = model.predict(forecast_steps)\n",
    "\n",
    "# Invert seasonal differencing to recover forecasted log returns\n",
    "last_5 = df['log_return'].iloc[-5:].values\n",
    "\n",
    "forecasted_log_returns = []\n",
    "for i, val in enumerate(forecast_seasonal_diff.values().flatten()):\n",
    "    if i < 5:\n",
    "        prev_val = last_5[i]\n",
    "    else:\n",
    "        prev_val = forecasted_log_returns[i - 5]\n",
    "    forecasted_log_returns.append(val + prev_val)\n",
    "forecasted_log_returns = np.array(forecasted_log_returns)\n",
    "\n",
    "# Create forecast dates index (EXACTLY forecast_steps long)\n",
    "forecast_dates = pd.bdate_range(df.index[-1] + pd.Timedelta(days=1), periods=forecast_steps)\n",
    "\n",
    "# Build forecasted log returns Series\n",
    "forecast_log_returns_series = pd.Series(forecasted_log_returns, index=forecast_dates)\n",
    "\n",
    "# Convert log returns to prices\n",
    "last_log_price = np.log(df['Close'].iloc[-1])\n",
    "forecast_log_prices = last_log_price + forecast_log_returns_series.cumsum()\n",
    "forecast_prices = np.exp(forecast_log_prices)\n",
    "\n",
    "# ✅ Plotting\n",
    "plt.figure(figsize=(12, 6))\n",
    "plt.plot(df.index, df['Close'], label='Historical Price')\n",
    "\n",
    "# Use flatten to ensure y-values are 1D\n",
    "plt.plot(forecast_prices.index, forecast_prices.values.flatten(), label='Forecasted Price', color='red')\n",
    "\n",
    "plt.legend()\n",
    "plt.title('TSLA Price Forecast with Seasonal Differencing + ARIMA (Darts)')\n",
    "plt.xlabel('Date')\n",
    "plt.ylabel('Price')\n",
    "plt.grid(True)\n",
    "plt.show()"
   ]
  },
  {
   "cell_type": "code",
   "execution_count": null,
   "id": "82de03a0-cd06-4673-8f3a-00a227394078",
   "metadata": {},
   "outputs": [],
   "source": [
    "print(f\"Training series length: {len(ts)}\")\n"
   ]
  },
  {
   "cell_type": "code",
   "execution_count": null,
   "id": "f6a62270-d385-4606-b109-420a08c14573",
   "metadata": {},
   "outputs": [],
   "source": [
    "print(f\"Length of df.index: {len(df.index)}\")\n",
    "print(f\"Length of forecast_prices.index: {len(forecast_prices.index)}\")\n",
    "print(f\"Length of forecast_prices.values.flatten(): {len(forecast_prices.values.flatten())}\")"
   ]
  },
  {
   "cell_type": "code",
   "execution_count": null,
   "id": "88fe086f-52ac-419f-8e89-15e2b58b25d1",
   "metadata": {},
   "outputs": [],
   "source": [
    "import matplotlib.pyplot as plt\n",
    "import matplotlib.dates as mdates\n",
    "\n",
    "# Explicitly extract numpy arrays for dates and prices\n",
    "x_hist = mdates.date2num(df.index)  # Convert datetime index to matplotlib float dates\n",
    "y_hist = df['Close'].values         # Extract price data as numpy array\n",
    "\n",
    "x_forecast = mdates.date2num(forecast_prices.index)\n",
    "y_forecast = forecast_prices.values.flatten()\n",
    "\n",
    "# Start plotting\n",
    "plt.figure(figsize=(12, 6))\n",
    "\n",
    "plt.plot(x_hist, y_hist, label='Historical Price', linestyle='solid')\n",
    "plt.plot(x_forecast, y_forecast, label='Forecasted Price', color='red', linestyle='solid')\n",
    "\n",
    "# Format x-axis to show dates\n",
    "plt.gca().xaxis.set_major_formatter(mdates.DateFormatter('%Y-%m-%d'))\n",
    "plt.gcf().autofmt_xdate()\n",
    "\n",
    "plt.legend()\n",
    "plt.title('TSLA Price Forecast with Seasonal Differencing + ARIMA (Darts)')\n",
    "plt.xlabel('Date')\n",
    "plt.ylabel('Price')\n",
    "plt.grid(True)\n",
    "plt.show()\n",
    "\n"
   ]
  },
  {
   "cell_type": "code",
   "execution_count": null,
   "id": "40192ca1-6379-49d0-adc0-2a6c093ec604",
   "metadata": {},
   "outputs": [],
   "source": [
    "print(df.head())\n",
    "print(df.index)\n",
    "print(type(df.index))"
   ]
  },
  {
   "cell_type": "code",
   "execution_count": null,
   "id": "958b537f-63dc-43d3-b754-1a532bf15c58",
   "metadata": {},
   "outputs": [],
   "source": []
  },
  {
   "cell_type": "code",
   "execution_count": null,
   "id": "8357c9f1-8eed-4a90-b028-4871b9bb2478",
   "metadata": {},
   "outputs": [],
   "source": []
  },
  {
   "cell_type": "code",
   "execution_count": null,
   "id": "219b861c-3f97-449d-ac24-6cc897928011",
   "metadata": {},
   "outputs": [],
   "source": []
  },
  {
   "cell_type": "code",
   "execution_count": null,
   "id": "497aa998-cfb0-48d7-b84e-7788103b6a15",
   "metadata": {},
   "outputs": [],
   "source": []
  }
 ],
 "metadata": {
  "kernelspec": {
   "display_name": "Python 3 (ipykernel)",
   "language": "python",
   "name": "python3"
  },
  "language_info": {
   "codemirror_mode": {
    "name": "ipython",
    "version": 3
   },
   "file_extension": ".py",
   "mimetype": "text/x-python",
   "name": "python",
   "nbconvert_exporter": "python",
   "pygments_lexer": "ipython3",
   "version": "3.13.2"
  }
 },
 "nbformat": 4,
 "nbformat_minor": 5
}
