{
 "cells": [
  {
   "cell_type": "code",
   "execution_count": 6,
   "id": "8ff97f86-a34a-4a0b-8ee1-9e80f31d3d00",
   "metadata": {},
   "outputs": [],
   "source": [
    "import numpy as np\n",
    "import pandas as pd\n",
    "from scipy.stats import norm"
   ]
  },
  {
   "cell_type": "code",
   "execution_count": 9,
   "id": "c6ad18bb-1c5e-4967-8a6b-374f5ea89849",
   "metadata": {},
   "outputs": [],
   "source": [
    "N = norm.cdf\n",
    "\n",
    "#call option price with dividend rate q (0 if no divs)\n",
    "def BS_CALLDIV(S, K, T, r, q, sigma):\n",
    "    d1 = (np.log(S/K) + (r - q + sigma**2/2)*T) / (sigma*np.sqrt(T))\n",
    "    d2 = d1 - sigma* np.sqrt(T)\n",
    "    return S*np.exp(-q*T) * N(d1) - K * np.exp(-r*T)* N(d2)\n",
    "\n",
    "#put price with div rate q\n",
    "def BS_PUTDIV(S, K, T, r, q, sigma):\n",
    "    d1 = (np.log(S/K) + (r - q + sigma**2/2)*T) / (sigma*np.sqrt(T))\n",
    "    d2 = d1 - sigma* np.sqrt(T)\n",
    "    return K*np.exp(-r*T)*N(-d2) - S*np.exp(-q*T)*N(-d1)"
   ]
  },
  {
   "cell_type": "code",
   "execution_count": 8,
   "id": "0ae1a041-b605-48c1-a88d-322f716911ce",
   "metadata": {},
   "outputs": [
    {
     "data": {
      "text/plain": [
       "39.345411408885376"
      ]
     },
     "execution_count": 8,
     "metadata": {},
     "output_type": "execute_result"
    }
   ],
   "source": [
    "BS_CALLDIV(120, 150, 30, 0.04, 0.02, 0.25)"
   ]
  },
  {
   "cell_type": "code",
   "execution_count": null,
   "id": "8c331753-dc6d-48dc-9992-98f8c74d7fd0",
   "metadata": {},
   "outputs": [],
   "source": []
  }
 ],
 "metadata": {
  "kernelspec": {
   "display_name": "Python 3 (ipykernel)",
   "language": "python",
   "name": "python3"
  },
  "language_info": {
   "codemirror_mode": {
    "name": "ipython",
    "version": 3
   },
   "file_extension": ".py",
   "mimetype": "text/x-python",
   "name": "python",
   "nbconvert_exporter": "python",
   "pygments_lexer": "ipython3",
   "version": "3.13.2"
  }
 },
 "nbformat": 4,
 "nbformat_minor": 5
}
