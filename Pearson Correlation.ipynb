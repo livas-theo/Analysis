{
 "cells": [
  {
   "cell_type": "code",
   "execution_count": 12,
   "id": "d396cd8f-eff2-4796-9cfc-499276d6bcb9",
   "metadata": {},
   "outputs": [
    {
     "data": {
      "text/plain": [
       "PearsonRResult(statistic=-0.8285038835884277, pvalue=0.021280260007523352)"
      ]
     },
     "execution_count": 12,
     "metadata": {},
     "output_type": "execute_result"
    }
   ],
   "source": [
    "import numpy as np\n",
    "import pandas as pd\n",
    "from scipy import stats\n",
    "x, y = [1, 2, 3, 4, 5, 6, 7], [10, 9, 2.5, 6, 4, 3, 2]\n",
    "res = stats.pearsonr(x, y)\n",
    "res"
   ]
  },
  {
   "cell_type": "code",
   "execution_count": 2,
   "id": "5bbb6e57-e629-4a3d-83f0-e0e374594ae8",
   "metadata": {},
   "outputs": [
    {
     "data": {
      "text/plain": [
       "PearsonRResult(statistic=-0.8285038835884277, pvalue=0.028174603174603175)"
      ]
     },
     "execution_count": 2,
     "metadata": {},
     "output_type": "execute_result"
    }
   ],
   "source": [
    "rng = np.random.default_rng()\n",
    "method = stats.PermutationMethod(n_resamples=np.inf, random_state=rng)\n",
    "stats.pearsonr(x, y, method=method)"
   ]
  },
  {
   "cell_type": "code",
   "execution_count": 3,
   "id": "6f7750ee-1f1f-4e80-a4d4-2c470617e44b",
   "metadata": {},
   "outputs": [
    {
     "data": {
      "text/plain": [
       "PearsonRResult(statistic=-0.8285038835884277, pvalue=0.0258)"
      ]
     },
     "execution_count": 3,
     "metadata": {},
     "output_type": "execute_result"
    }
   ],
   "source": [
    "method = stats.MonteCarloMethod(rvs=(rng.uniform, rng.uniform))\n",
    "stats.pearsonr(x, y, method=method)"
   ]
  },
  {
   "cell_type": "code",
   "execution_count": 4,
   "id": "e547e93d-af10-44b7-aa9a-5cb1c989163a",
   "metadata": {},
   "outputs": [
    {
     "data": {
      "text/plain": [
       "ConfidenceInterval(low=-0.9644331982722841, high=-0.3460237473272266)"
      ]
     },
     "execution_count": 4,
     "metadata": {},
     "output_type": "execute_result"
    }
   ],
   "source": [
    "res.confidence_interval(confidence_level=0.9)"
   ]
  },
  {
   "cell_type": "code",
   "execution_count": 6,
   "id": "59e0352d-401e-4159-a47e-9b5f51be7a14",
   "metadata": {},
   "outputs": [
    {
     "data": {
      "text/plain": [
       "ConfidenceInterval(low=-0.9984671803547727, high=-0.216696765530001)"
      ]
     },
     "execution_count": 6,
     "metadata": {},
     "output_type": "execute_result"
    }
   ],
   "source": [
    "method = stats.BootstrapMethod(method='BCa')\n",
    "res.confidence_interval(confidence_level=0.9, method=method)"
   ]
  },
  {
   "cell_type": "code",
   "execution_count": 14,
   "id": "d2b53238-904b-44a4-87df-13f7b8dd310f",
   "metadata": {},
   "outputs": [
    {
     "data": {
      "text/plain": [
       "<bound method DataFrame.info of           0\n",
       "0    282.22\n",
       "1    277.87\n",
       "2    278.86\n",
       "3    283.64\n",
       "4    282.78\n",
       "..      ...\n",
       "247  217.94\n",
       "248  221.87\n",
       "249  216.85\n",
       "250  215.37\n",
       "251  217.81\n",
       "\n",
       "[252 rows x 1 columns]>"
      ]
     },
     "execution_count": 14,
     "metadata": {},
     "output_type": "execute_result"
    }
   ],
   "source": [
    "gld = [282.22,\n",
    "277.87,\n",
    "278.86,\n",
    "283.64,\n",
    "282.78,\n",
    "288.28,\n",
    "288.54,\n",
    "287.53,\n",
    "283.82,\n",
    "280.55,\n",
    "278.93,\n",
    "278.78,\n",
    "278.91,\n",
    "279.46,\n",
    "279.49,\n",
    "279.85,\n",
    "279.9,\n",
    "275.54,\n",
    "276.27,\n",
    "271.57,\n",
    "268.47,\n",
    "268.47,\n",
    "267.62,\n",
    "269.09,\n",
    "268.25,\n",
    "267.97,\n",
    "269.01,\n",
    "265.07,\n",
    "262.56,\n",
    "266.49,\n",
    "267.08,\n",
    "271.46,\n",
    "271.45,\n",
    "270.8,\n",
    "270.23,\n",
    "270.68,\n",
    "269.68,\n",
    "270.07,\n",
    "268.4,\n",
    "267.15,\n",
    "267.7,\n",
    "268,\n",
    "265.22,\n",
    "263.66,\n",
    "264.45,\n",
    "261.83,\n",
    "259.75,\n",
    "259.08,\n",
    "257.2,\n",
    "254.55,\n",
    "254.23,\n",
    "253.86,\n",
    "255.96,\n",
    "253.19,\n",
    "254.29,\n",
    "251.95,\n",
    "249.7,\n",
    "250.56,\n",
    "248.21,\n",
    "245.62,\n",
    "246.34,\n",
    "248.01,\n",
    "245.72,\n",
    "245.52,\n",
    "242.33,\n",
    "244.56,\n",
    "244.22,\n",
    "241.05,\n",
    "241.08,\n",
    "241.2,\n",
    "242.39,\n",
    "241.49,\n",
    "241.6,\n",
    "241.41,\n",
    "239.67,\n",
    "243.57,\n",
    "243.8,\n",
    "245.41,\n",
    "245.67,\n",
    "247.81,\n",
    "249.35,\n",
    "247.86,\n",
    "246.28,\n",
    "242.79,\n",
    "244.16,\n",
    "244.93,\n",
    "244.96,\n",
    "244.46,\n",
    "245.25,\n",
    "244.85,\n",
    "242.71,\n",
    "244.27,\n",
    "248.2,\n",
    "246.23,\n",
    "243.74,\n",
    "242.75,\n",
    "240.46,\n",
    "237.57,\n",
    "236.57,\n",
    "241.31,\n",
    "241.29,\n",
    "242.73,\n",
    "249.07,\n",
    "248.29,\n",
    "245.64,\n",
    "253.78,\n",
    "253.32,\n",
    "254.33,\n",
    "255.52,\n",
    "256.76,\n",
    "254.49,\n",
    "253.01,\n",
    "252,\n",
    "253.27,\n",
    "253.08,\n",
    "253.06,\n",
    "252.74,\n",
    "250,\n",
    "247.75,\n",
    "247.62,\n",
    "244.99,\n",
    "245.16,\n",
    "244.5,\n",
    "241.77,\n",
    "241.16,\n",
    "243.79,\n",
    "244.58,\n",
    "245,\n",
    "244.72,\n",
    "245.61,\n",
    "245.2,\n",
    "243.97,\n",
    "246.31,\n",
    "246.44,\n",
    "246.19,\n",
    "243.39,\n",
    "242.97,\n",
    "241.11,\n",
    "238.24,\n",
    "238.19,\n",
    "238.08,\n",
    "238.73,\n",
    "238.13,\n",
    "234.63,\n",
    "231.72,\n",
    "232.39,\n",
    "231.26,\n",
    "231.83,\n",
    "232.72,\n",
    "229.79,\n",
    "230.38,\n",
    "232.53,\n",
    "231.95,\n",
    "232,\n",
    "231.69,\n",
    "233.45,\n",
    "231.04,\n",
    "230.35,\n",
    "231.69,\n",
    "233.71,\n",
    "230.15,\n",
    "229.99,\n",
    "226.51,\n",
    "226.55,\n",
    "228.07,\n",
    "226.14,\n",
    "224.82,\n",
    "222.73,\n",
    "221.94,\n",
    "221.5,\n",
    "220.56,\n",
    "227.95,\n",
    "226.74,\n",
    "223.73,\n",
    "221.41,\n",
    "221.26,\n",
    "219.96,\n",
    "219.02,\n",
    "223.47,\n",
    "222.34,\n",
    "221.58,\n",
    "221.52,\n",
    "227.71,\n",
    "228.79,\n",
    "225.45,\n",
    "223.39,\n",
    "222.03,\n",
    "222.65,\n",
    "220.14,\n",
    "218.57,\n",
    "219.64,\n",
    "219.58,\n",
    "217.34,\n",
    "215.33,\n",
    "215.25,\n",
    "215.64,\n",
    "214.71,\n",
    "212.39,\n",
    "214.96,\n",
    "215.55,\n",
    "217.83,\n",
    "216.32,\n",
    "214.38,\n",
    "214.9,\n",
    "215.34,\n",
    "214.44,\n",
    "216.47,\n",
    "213.95,\n",
    "213.13,\n",
    "215.07,\n",
    "218.36,\n",
    "216.69,\n",
    "216.24,\n",
    "215.92,\n",
    "217.77,\n",
    "216.69,\n",
    "216.92,\n",
    "218.43,\n",
    "216.96,\n",
    "218.78,\n",
    "223.09,\n",
    "224.77,\n",
    "223.79,\n",
    "222.18,\n",
    "220.14,\n",
    "219.06,\n",
    "217.31,\n",
    "217.06,\n",
    "219.22,\n",
    "214.48,\n",
    "213.62,\n",
    "214.52,\n",
    "215.14,\n",
    "212.89,\n",
    "211.9,\n",
    "212.96,\n",
    "213.38,\n",
    "216.02,\n",
    "216.77,\n",
    "214.47,\n",
    "214.76,\n",
    "213.96,\n",
    "216.35,\n",
    "220.49,\n",
    "221.31,\n",
    "221.05,\n",
    "220.18,\n",
    "217.94,\n",
    "221.87,\n",
    "216.85,\n",
    "215.37,\n",
    "217.81]"
   ]
  },
  {
   "cell_type": "code",
   "execution_count": 15,
   "id": "78733ed3-4f36-44e5-a4c3-9ec67dd16c8f",
   "metadata": {},
   "outputs": [],
   "source": [
    "gld2 = [282.22,\n",
    "268.47,\n",
    "265.22,\n",
    "245.52,\n",
    "244.16,\n",
    "253.78,\n",
    "244.58,\n",
    "231.83,\n",
    "221.94,\n",
    "218.57,\n",
    "218.36,\n",
    "214.52]"
   ]
  },
  {
   "cell_type": "code",
   "execution_count": 16,
   "id": "e0afb8b1-8cea-43cf-8299-d7041f630cf3",
   "metadata": {},
   "outputs": [],
   "source": [
    "btc = [60636.86,\n",
    "67489.61,\n",
    "62678.29,\n",
    "64619.25,\n",
    "58969.90,\n",
    "63329.50,\n",
    "70215.19,\n",
    "96449.06,\n",
    "93429.20,\n",
    "102405.03,\n",
    "84373.01,\n",
    "82548.91]"
   ]
  },
  {
   "cell_type": "code",
   "execution_count": 19,
   "id": "7ef4e658-973e-4d39-98b9-5dcdee6ea05b",
   "metadata": {},
   "outputs": [
    {
     "data": {
      "text/plain": [
       "PearsonRResult(statistic=-0.7826548623071365, pvalue=0.002617237008888309)"
      ]
     },
     "execution_count": 19,
     "metadata": {},
     "output_type": "execute_result"
    }
   ],
   "source": [
    "res = stats.pearsonr(gld2,btc)\n",
    "res"
   ]
  },
  {
   "cell_type": "code",
   "execution_count": null,
   "id": "a6b43183-f49d-4707-b0bf-e0e05cc84daf",
   "metadata": {},
   "outputs": [],
   "source": []
  }
 ],
 "metadata": {
  "kernelspec": {
   "display_name": "Python 3 (ipykernel)",
   "language": "python",
   "name": "python3"
  },
  "language_info": {
   "codemirror_mode": {
    "name": "ipython",
    "version": 3
   },
   "file_extension": ".py",
   "mimetype": "text/x-python",
   "name": "python",
   "nbconvert_exporter": "python",
   "pygments_lexer": "ipython3",
   "version": "3.13.2"
  }
 },
 "nbformat": 4,
 "nbformat_minor": 5
}
