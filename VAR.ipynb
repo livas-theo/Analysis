{
 "cells": [
  {
   "cell_type": "code",
   "execution_count": 3,
   "id": "62611c48-5869-43c5-b433-ea5ea7a3d93d",
   "metadata": {},
   "outputs": [],
   "source": [
    "import numpy as np\n",
    "from scipy.stats import norm\n",
    "\n",
    "#BS Price\n",
    "def black_scholes_price(S, K, T, r, sigma, option_type='call'):\n",
    "    d1 = (np.log(S / K) + (r + 0.5 * sigma **2) * T) / (sigma * np.sqrt(T))\n",
    "    d2 = d1 - sigma * np.sqrt(T)\n",
    "    if option_type == 'call':\n",
    "        price = S * norm.cdf(d1) - K * np.exp(-r * T) * norm.cdf(d2)\n",
    "    else:\n",
    "        price = K * np.exp(-r * T) * norm.cdf(-d2) - S * norm.cdf(-d1)\n",
    "    return price"
   ]
  },
  {
   "cell_type": "code",
   "execution_count": 5,
   "id": "e59746d9-e9d9-4962-a143-b64bdba88e0c",
   "metadata": {},
   "outputs": [],
   "source": [
    "#Fake Options Portfolio Data\n",
    "portfolio = [\n",
    "    {'position': 10, 'type': 'call', 'strike': 400, 'T': 0.5},  # Long 10 calls\n",
    "    {'position': -5, 'type': 'put',  'strike': 350, 'T': 0.5}   # Short 5 puts\n",
    "]"
   ]
  },
  {
   "cell_type": "code",
   "execution_count": 14,
   "id": "ac448383-bcc0-41fa-b08d-b7ed987f5897",
   "metadata": {},
   "outputs": [],
   "source": [
    "#Monte Carlo Params [********CONFIGURABLE********]\n",
    "S0 = 380\n",
    "r = 0.01\n",
    "sigma = 0.25\n",
    "simulations = 100000\n",
    "confidence = 0.95\n",
    "\n",
    "#Perform MC Sims using GBM\n",
    "\n",
    "np.random.seed(42)\n",
    "ST = S0 * np.exp((r - 0.5 * sigma**2) * 0.5 + sigma * np.sqrt(0.5) * np.random.randn(simulations))"
   ]
  },
  {
   "cell_type": "code",
   "execution_count": 9,
   "id": "a8727e59-ac77-4e8b-9bc8-1efac755bfcf",
   "metadata": {},
   "outputs": [],
   "source": [
    "initial_value = 0\n",
    "for opt in portfolio:\n",
    "    price = black_scholes_price(S0, opt['strike'], opt['T'], r, sigma, opt['type'])\n",
    "    initial_value += opt['position'] * price\n",
    "\n",
    "#Simulated portfolio value at expiry\n",
    "simulated_values = np.zeros(simulations)\n",
    "\n",
    "for opt in portfolio:\n",
    "    if opt['type'] == 'call':\n",
    "        payoff = np.maximum(ST - opt['strike'], 0)\n",
    "    else:\n",
    "        payoff = np.maximum(opt['strike'] - ST, 0)\n",
    "        \n",
    "    simulated_values += opt['position'] * payoff\n",
    "\n",
    "PnL = simulated_values - initial_value"
   ]
  },
  {
   "cell_type": "code",
   "execution_count": 10,
   "id": "fe262949-dcb3-4c4e-83f9-852c87139888",
   "metadata": {},
   "outputs": [
    {
     "data": {
      "text/plain": [
       "array([ -24.24308652, -129.15199883,   86.78684786, ...,  -87.26988744,\n",
       "       -129.15199883, -129.15199883], shape=(100000,))"
      ]
     },
     "execution_count": 10,
     "metadata": {},
     "output_type": "execute_result"
    }
   ],
   "source": [
    "PnL"
   ]
  },
  {
   "cell_type": "code",
   "execution_count": 11,
   "id": "1b8e063e-af3f-4345-b124-d0fb5db975bd",
   "metadata": {},
   "outputs": [
    {
     "data": {
      "text/plain": [
       "np.float64(129769.94553449216)"
      ]
     },
     "execution_count": 11,
     "metadata": {},
     "output_type": "execute_result"
    }
   ],
   "source": [
    "sum(PnL)"
   ]
  },
  {
   "cell_type": "code",
   "execution_count": 12,
   "id": "274e9c05-9076-4916-b139-d383f2f7b0ec",
   "metadata": {},
   "outputs": [],
   "source": [
    "#sort from worst to best\n",
    "sorted_losses = -np.sort(-PnL)\n",
    "\n",
    "VaR_idx = int((1 - confidence) * simulations)\n",
    "VaR = -sorted_losses[VaR_idx]\n",
    "\n",
    "CVaR = -np.mean(sorted_losses[:VaR_idx])"
   ]
  },
  {
   "cell_type": "code",
   "execution_count": 13,
   "id": "99722e1b-8103-46dc-9bc3-e875874d8b33",
   "metadata": {},
   "outputs": [
    {
     "name": "stdout",
     "output_type": "stream",
     "text": [
      "Portfolio VaR (95%): $-904.52\n",
      "Portfolio CVaR (95%): $-1,297.35\n"
     ]
    }
   ],
   "source": [
    "print(f\"Portfolio VaR ({int(confidence*100)}%): ${VaR:,.2f}\")\n",
    "print(f\"Portfolio CVaR ({int(confidence*100)}%): ${CVaR:,.2f}\")"
   ]
  },
  {
   "cell_type": "code",
   "execution_count": null,
   "id": "d9daa2fb-92ca-47af-8cdc-b7caf9bff0e7",
   "metadata": {},
   "outputs": [],
   "source": []
  }
 ],
 "metadata": {
  "kernelspec": {
   "display_name": "Python 3 (ipykernel)",
   "language": "python",
   "name": "python3"
  },
  "language_info": {
   "codemirror_mode": {
    "name": "ipython",
    "version": 3
   },
   "file_extension": ".py",
   "mimetype": "text/x-python",
   "name": "python",
   "nbconvert_exporter": "python",
   "pygments_lexer": "ipython3",
   "version": "3.13.2"
  }
 },
 "nbformat": 4,
 "nbformat_minor": 5
}
